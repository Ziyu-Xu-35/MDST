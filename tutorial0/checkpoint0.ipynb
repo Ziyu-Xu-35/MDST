{
 "cells": [
  {
   "cell_type": "markdown",
   "metadata": {
    "colab_type": "text",
    "id": "0a8IYAJUshu1"
   },
   "source": [
    "# Checkpoint 0 "
   ]
  },
  {
   "cell_type": "markdown",
   "metadata": {},
   "source": [
    "These exercises are a mix of Python and Pandas practice. Most should be no more than a few lines of code! "
   ]
  },
  {
   "cell_type": "code",
   "execution_count": 1,
   "metadata": {
    "colab": {},
    "colab_type": "code",
    "id": "Jo6wuTgkshu1"
   },
   "outputs": [],
   "source": [
    "# here is a Python list:\n",
    "\n",
    "a = [1, 2, 3, 4, 5, 6]\n"
   ]
  },
  {
   "cell_type": "code",
   "execution_count": 2,
   "id": "779d96b1",
   "metadata": {},
   "outputs": [],
   "source": [
    "# get a list containing the last 3 elements of a\n",
    "last_three = a[-3:]\n",
    "# Yes, you can just type out [4, 5, 6] but we really want to see you demonstrate you know how to use list slicing in Python"
   ]
  },
  {
   "cell_type": "code",
   "execution_count": null,
   "id": "b6a54def",
   "metadata": {},
   "outputs": [],
   "source": [
    "# create a list of numbers from 1 to 20\n",
    "numbers = [i for i in range(1, 21)]"
   ]
  },
  {
   "cell_type": "code",
   "execution_count": null,
   "id": "487873ac",
   "metadata": {},
   "outputs": [],
   "source": [
    "# now get a list with only the even numbers between 1 and 100\n",
    "# you may or may not make use of the list you made in the last cell\n",
    "even_numbers = [i for i in range(2, 101, 2)]"
   ]
  },
  {
   "cell_type": "code",
   "execution_count": null,
   "id": "3d4bb5dd",
   "metadata": {},
   "outputs": [],
   "source": [
    "# write a function that takes two numbers as arguments\n",
    "# and returns the first number divided by the second\n",
    "def divide_numbers(num1, num2):\n",
    "    if num2 == 0:\n",
    "        raise ValueError(\"Cannot divide by zero\")\n",
    "    \n",
    "    # Perform the division\n",
    "    return num1 / num2"
   ]
  },
  {
   "cell_type": "code",
   "execution_count": null,
   "id": "f55df04e",
   "metadata": {},
   "outputs": [],
   "source": [
    "# fizzbuzz\n",
    "# you will need to use both iteration and control flow \n",
    "# go through all numbers from 1 to 30 in order\n",
    "# if the number is a multiple of 3, print fizz\n",
    "# if the number is a multiple of 5, print buzz\n",
    "# if the number is a multiple of 3 and 5, print fizzbuzz and NOTHING ELSE\n",
    "# if the number is neither a multiple of 3 nor a multiple of 5, print the number\n",
    "def fizz_buzz():\n",
    "    # Loop through numbers 1 to 30\n",
    "    for num in range(1, 31):\n",
    "        # Check if the number is a multiple of both 3 and 5\n",
    "        if num % 3 == 0 and num % 5 == 0:\n",
    "            print(\"fizzbuzz\")\n",
    "        # Check if the number is a multiple of 3\n",
    "        elif num % 3 == 0:\n",
    "            print(\"fizz\")\n",
    "        # Check if the number is a multiple of 5\n",
    "        elif num % 5 == 0:\n",
    "            print(\"buzz\")\n",
    "        # If the number is not a multiple of 3 or 5, print the number itself\n",
    "        else:\n",
    "            print(num)"
   ]
  },
  {
   "cell_type": "code",
   "execution_count": null,
   "id": "78aace0b",
   "metadata": {},
   "outputs": [],
   "source": [
    "# create a dictionary that reflects the following menu pricing (taken from Ahmo's)\n",
    "# Gyro: $9 \n",
    "# Burger: $9\n",
    "# Greek Salad: $8\n",
    "# Philly Steak: $10\n",
    "menu_pricing = {\n",
    "    \"Gyro\": 9,\n",
    "    \"Burger\": 9,\n",
    "    \"Greek Salad\": 8,\n",
    "    \"Philly Steak\": 10\n",
    "}"
   ]
  },
  {
   "cell_type": "code",
   "execution_count": null,
   "metadata": {
    "colab": {},
    "colab_type": "code",
    "id": "WzCQ5HOJshvA"
   },
   "outputs": [],
   "source": [
    "# load in the \"starbucks.csv\" dataset\n",
    "# refer to how we read the cereal.csv dataset in the tutorial\n",
    "import pandas as pd\n",
    "\n",
    "starbucks_data = pd.read_csv('starbucks.csv')"
   ]
  },
  {
   "cell_type": "code",
   "execution_count": null,
   "id": "ac0f0c12",
   "metadata": {},
   "outputs": [],
   "source": [
    "# select all rows with more than and including 400 calories\n",
    "if 'Calories' in starbucks_data.columns:\n",
    "    high_calorie_items = starbucks_data[starbucks_data['Calories'] >= 400]\n",
    "    print(high_calorie_items)\n",
    "else:\n",
    "    print(\"The 'Calories' column does not exist in the dataset.\")"
   ]
  },
  {
   "cell_type": "code",
   "execution_count": null,
   "id": "ee8f8241",
   "metadata": {},
   "outputs": [],
   "source": [
    "# select all rows whose vitamin c content is higher than the iron content\n",
    "if 'Vitamin C' in starbucks_data.columns and 'Iron' in starbucks_data.columns:\n",
    "    # Select rows where Vitamin C content is higher than Iron content\n",
    "    vitamin_c_greater_than_iron = starbucks_data[starbucks_data['Vitamin C'] > starbucks_data['Iron']]\n",
    "    print(vitamin_c_greater_than_iron)\n",
    "else:\n",
    "    print(\"One or both columns ('Vitamin C' or 'Iron') do not exist in the dataset.\")"
   ]
  },
  {
   "cell_type": "code",
   "execution_count": null,
   "id": "d4de48bb",
   "metadata": {},
   "outputs": [],
   "source": [
    "# create a new column containing the caffeine per calories of each drink\n",
    "if 'Caffeine (mg)' in starbucks_data.columns and 'Calories' in starbucks_data.columns:\n",
    "    # Ensure no division by zero issues\n",
    "    starbucks_data['Calories'] = starbucks_data['Calories'].replace(0, 1)\n",
    "    \n",
    "    # Calculate caffeine per calorie\n",
    "    starbucks_data['Caffeine per Calorie'] = starbucks_data['Caffeine (mg)'] / starbucks_data['Calories']\n",
    "    \n",
    "    # Display the updated DataFrame\n",
    "    print(starbucks_data[['Caffeine (mg)', 'Calories', 'Caffeine per Calorie']].head())\n",
    "else:\n",
    "    print(\"Required columns are missing.\")"
   ]
  },
  {
   "cell_type": "code",
   "execution_count": null,
   "metadata": {
    "colab": {},
    "colab_type": "code",
    "id": "rIoxaSxHshvB"
   },
   "outputs": [],
   "source": [
    "# what is the average calorie across all items?\n",
    "if 'Calories' in starbucks_data.columns:\n",
    "    average_calories = starbucks_data['Calories'].mean()\n",
    "    print(\"The average calorie content across all items is:\", average_calories)\n",
    "else:\n",
    "    print(\"The 'Calories' column does not exist in the dataset.\")"
   ]
  },
  {
   "cell_type": "code",
   "execution_count": null,
   "metadata": {
    "colab": {},
    "colab_type": "code",
    "id": "ABX7i49FshvD"
   },
   "outputs": [],
   "source": [
    "# how many different categories of beverages are there?\n",
    "if 'Beverage Category' in starbucks_data.columns:\n",
    "    # Find unique categories and count them\n",
    "    unique_categories = starbucks_data['Beverage Category'].unique()\n",
    "    num_categories = len(unique_categories)\n",
    "    print(\"Number of different beverage categories:\", num_categories)\n",
    "    print(\"Categories are:\", unique_categories)\n",
    "else:\n",
    "    print(\"The 'Beverage Category' column does not exist in the dataset.\")"
   ]
  },
  {
   "cell_type": "code",
   "execution_count": null,
   "metadata": {
    "colab": {},
    "colab_type": "code",
    "id": "P9QatZAzshvE"
   },
   "outputs": [],
   "source": [
    "# what is the average # calories for each beverage category?\n",
    "# Check if the necessary columns exist\n",
    "if 'Beverage Category' in starbucks_data.columns and 'Calories' in starbucks_data.columns:\n",
    "    # Group data by 'Beverage Category' and calculate the mean of 'Calories'\n",
    "    average_calories_per_category = starbucks_data.groupby('Beverage Category')['Calories'].mean()\n",
    "\n",
    "    # Print the result\n",
    "    print(\"Average Calories per Beverage Category:\")\n",
    "    print(average_calories_per_category)\n",
    "else:\n",
    "    print(\"Required columns are missing.\")\n",
    "\n"
   ]
  }
 ],
 "metadata": {
  "kernelspec": {
   "display_name": "Python 3 (ipykernel)",
   "language": "python",
   "name": "python3"
  },
  "language_info": {
   "codemirror_mode": {
    "name": "ipython",
    "version": 3
   },
   "file_extension": ".py",
   "mimetype": "text/x-python",
   "name": "python",
   "nbconvert_exporter": "python",
   "pygments_lexer": "ipython3",
   "version": "3.8.10"
  },
  "vscode": {
   "interpreter": {
    "hash": "6cf8df3ff69f85f626faf55c10df6fe2cb9d1236b4dc73844ee4dc01369c2c99"
   }
  }
 },
 "nbformat": 4,
 "nbformat_minor": 5
}
